{
  "nbformat": 4,
  "nbformat_minor": 0,
  "metadata": {
    "colab": {
      "name": "risk-question.ipynb",
      "provenance": [],
      "authorship_tag": "ABX9TyPRTPzu6DW+f2pNupjzmtS2",
      "include_colab_link": true
    },
    "kernelspec": {
      "name": "python3",
      "display_name": "Python 3"
    },
    "language_info": {
      "name": "python"
    }
  },
  "cells": [
    {
      "cell_type": "markdown",
      "metadata": {
        "id": "view-in-github",
        "colab_type": "text"
      },
      "source": [
        "<a href=\"https://colab.research.google.com/github/busrasyazra/python-homeworks/blob/main/risk_question.ipynb\" target=\"_parent\"><img src=\"https://colab.research.google.com/assets/colab-badge.svg\" alt=\"Open In Colab\"/></a>"
      ]
    },
    {
      "cell_type": "code",
      "metadata": {
        "colab": {
          "base_uri": "https://localhost:8080/"
        },
        "id": "y2RXIOrC6UI7",
        "outputId": "7a4377ac-893e-416e-e3c8-a208b17ea25d"
      },
      "source": [
        "age = input(\"Are you a cigarette addict older than 75 years old? :\").title()\n",
        "chronic = input(\"Do you have a severe chronic disease?: \").title()\n",
        "immune = input(\"Is your immune system too weak? :\").title()\n",
        "\n",
        "if age== 'No' and immune== 'No' and chronic== 'No':\n",
        " print(\"You are not in risky group.\")\n",
        "\n",
        "else:\n",
        "  print(\"You are in risky group.\")\n",
        "\n"
      ],
      "execution_count": 7,
      "outputs": [
        {
          "output_type": "stream",
          "text": [
            "Are you a cigarette addict older than 75 years old? :yes\n",
            "Do you have a severe chronic disease?: no\n",
            "Is your immune system too weak? :yes\n",
            "You are in risky group.\n"
          ],
          "name": "stdout"
        }
      ]
    },
    {
      "cell_type": "code",
      "metadata": {
        "id": "yPwQN6I37E1J"
      },
      "source": [
        ""
      ],
      "execution_count": null,
      "outputs": []
    }
  ]
}