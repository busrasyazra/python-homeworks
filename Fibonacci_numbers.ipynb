{
  "nbformat": 4,
  "nbformat_minor": 0,
  "metadata": {
    "colab": {
      "name": "Fibonacci-numbers.ipynb",
      "provenance": [],
      "authorship_tag": "ABX9TyOET6rnV4QSY3BetZ8rTJ6s",
      "include_colab_link": true
    },
    "kernelspec": {
      "name": "python3",
      "display_name": "Python 3"
    },
    "language_info": {
      "name": "python"
    }
  },
  "cells": [
    {
      "cell_type": "markdown",
      "metadata": {
        "id": "view-in-github",
        "colab_type": "text"
      },
      "source": [
        "<a href=\"https://colab.research.google.com/github/busrasyazra/python-homeworks/blob/main/Fibonacci_numbers.ipynb\" target=\"_parent\"><img src=\"https://colab.research.google.com/assets/colab-badge.svg\" alt=\"Open In Colab\"/></a>"
      ]
    },
    {
      "cell_type": "code",
      "metadata": {
        "colab": {
          "base_uri": "https://localhost:8080/"
        },
        "id": "fGhVj4J6P-KL",
        "outputId": "95829958-34e1-4e3f-da6a-fcabdc2be59f"
      },
      "source": [
        "n = 55\n",
        "fibonacci_num = [1, 1]\n",
        "counter = 0\n",
        "\n",
        "while counter < n:\n",
        "    counter = fibonacci_num[-1] + fibonacci_num[-2]\n",
        "    fibonacci_num.append(counter)\n",
        "    \n",
        "print(fibonacci_num)"
      ],
      "execution_count": 1,
      "outputs": [
        {
          "output_type": "stream",
          "text": [
            "[1, 1, 2, 3, 5, 8, 13, 21, 34, 55]\n"
          ],
          "name": "stdout"
        }
      ]
    }
  ]
}