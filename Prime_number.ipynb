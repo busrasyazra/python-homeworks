{
  "nbformat": 4,
  "nbformat_minor": 0,
  "metadata": {
    "colab": {
      "name": "Prime-number.ipynb",
      "provenance": [],
      "authorship_tag": "ABX9TyPyxEYOSRKB957Z/1GfoetH",
      "include_colab_link": true
    },
    "kernelspec": {
      "name": "python3",
      "display_name": "Python 3"
    },
    "language_info": {
      "name": "python"
    }
  },
  "cells": [
    {
      "cell_type": "markdown",
      "metadata": {
        "id": "view-in-github",
        "colab_type": "text"
      },
      "source": [
        "<a href=\"https://colab.research.google.com/github/busrasyazra/python-homeworks/blob/main/Prime_number.ipynb\" target=\"_parent\"><img src=\"https://colab.research.google.com/assets/colab-badge.svg\" alt=\"Open In Colab\"/></a>"
      ]
    },
    {
      "cell_type": "code",
      "metadata": {
        "colab": {
          "base_uri": "https://localhost:8080/"
        },
        "id": "WI6LAx82NlY8",
        "outputId": "7dac2a46-a44e-47e1-8fe5-92a7b12c0c05"
      },
      "source": [
        "n = 100\n",
        "prime_list = []\n",
        " \n",
        "  \n",
        "for x in range(1, n + 1):  \n",
        "   if x > 1:  \n",
        "       for i in range(2, x):  \n",
        "           if (x % i) == 0:  \n",
        "               break  \n",
        "       else:  \n",
        "           prime_list.append(x)  \n",
        "  \n",
        "print(prime_list)"
      ],
      "execution_count": 19,
      "outputs": [
        {
          "output_type": "stream",
          "text": [
            "[2, 3, 5, 7, 11, 13, 17, 19, 23, 29, 31, 37, 41, 43, 47, 53, 59, 61, 67, 71, 73, 79, 83, 89, 97]\n"
          ],
          "name": "stdout"
        }
      ]
    }
  ]
}