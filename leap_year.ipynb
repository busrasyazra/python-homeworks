{
  "nbformat": 4,
  "nbformat_minor": 0,
  "metadata": {
    "colab": {
      "name": "leap_year.ipynb",
      "provenance": [],
      "authorship_tag": "ABX9TyNJ4g+pV81X7IMYPJ0aIL6a",
      "include_colab_link": true
    },
    "kernelspec": {
      "name": "python3",
      "display_name": "Python 3"
    },
    "language_info": {
      "name": "python"
    }
  },
  "cells": [
    {
      "cell_type": "markdown",
      "metadata": {
        "id": "view-in-github",
        "colab_type": "text"
      },
      "source": [
        "<a href=\"https://colab.research.google.com/github/busrasyazra/python-homeworks/blob/main/leap_year.ipynb\" target=\"_parent\"><img src=\"https://colab.research.google.com/assets/colab-badge.svg\" alt=\"Open In Colab\"/></a>"
      ]
    },
    {
      "cell_type": "code",
      "metadata": {
        "colab": {
          "base_uri": "https://localhost:8080/"
        },
        "id": "aktRA8GRuLon",
        "outputId": "dabc5d50-c07c-4486-e07a-3401120f4131"
      },
      "source": [
        "year= int(input('Please enter a year: '))\n",
        "\n",
        "if year%4 == 0 and year%400 == 0:\n",
        "  print(year, \"is a leap year.\")\n",
        "else:\n",
        "  print(year, 'is not a leap year.')  "
      ],
      "execution_count": 12,
      "outputs": [
        {
          "output_type": "stream",
          "text": [
            "Please enter a year: 2400\n",
            "2400 is a leap year.\n"
          ],
          "name": "stdout"
        }
      ]
    }
  ]
}