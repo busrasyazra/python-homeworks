{
  "nbformat": 4,
  "nbformat_minor": 0,
  "metadata": {
    "colab": {
      "name": "armstrong-number.ipynb",
      "provenance": [],
      "authorship_tag": "ABX9TyMCPJo8LzO1OPbCzLQYioTn",
      "include_colab_link": true
    },
    "kernelspec": {
      "name": "python3",
      "display_name": "Python 3"
    },
    "language_info": {
      "name": "python"
    }
  },
  "cells": [
    {
      "cell_type": "markdown",
      "metadata": {
        "id": "view-in-github",
        "colab_type": "text"
      },
      "source": [
        "<a href=\"https://colab.research.google.com/github/busrasyazra/python-homeworks/blob/main/armstrong_number.ipynb\" target=\"_parent\"><img src=\"https://colab.research.google.com/assets/colab-badge.svg\" alt=\"Open In Colab\"/></a>"
      ]
    },
    {
      "cell_type": "code",
      "metadata": {
        "colab": {
          "base_uri": "https://localhost:8080/"
        },
        "id": "CAv_-ldUOrYU",
        "outputId": "e32b8b5f-da3d-49dd-ad99-9b246bee7fec"
      },
      "source": [
        "number = input('Please enter a positive number: ')\n",
        "\n",
        "if number.isdigit():\n",
        "    digit = list(number)\n",
        "    exponant = len(digit)\n",
        "    result = 0\n",
        "\n",
        "    for num in digit:\n",
        "        result += int(num) ** exponant\n",
        "    if result == int(number):\n",
        "        print(number,'is an Armstrong number')\n",
        "    else:\n",
        "        print(number,'is not an Armstrong number')  \n",
        "else:\n",
        "    print('It is an invalid entry. Don\\'t use non-numeric, float, or negative values!')\n"
      ],
      "execution_count": 3,
      "outputs": [
        {
          "output_type": "stream",
          "text": [
            "Please enter a positive number: 7\n",
            "7 is an Armstrong number\n"
          ],
          "name": "stdout"
        }
      ]
    }
  ]
}