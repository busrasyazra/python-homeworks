{
  "nbformat": 4,
  "nbformat_minor": 0,
  "metadata": {
    "colab": {
      "name": "Password-question.ipynb",
      "provenance": [],
      "authorship_tag": "ABX9TyNVjJFArvVJF7YwrPEsProL",
      "include_colab_link": true
    },
    "kernelspec": {
      "name": "python3",
      "display_name": "Python 3"
    },
    "language_info": {
      "name": "python"
    }
  },
  "cells": [
    {
      "cell_type": "markdown",
      "metadata": {
        "id": "view-in-github",
        "colab_type": "text"
      },
      "source": [
        "<a href=\"https://colab.research.google.com/github/busrasyazra/python-homeworks/blob/main/Password_question.ipynb\" target=\"_parent\"><img src=\"https://colab.research.google.com/assets/colab-badge.svg\" alt=\"Open In Colab\"/></a>"
      ]
    },
    {
      "cell_type": "code",
      "metadata": {
        "colab": {
          "base_uri": "https://localhost:8080/"
        },
        "id": "Sa73GT7hV4QJ",
        "outputId": "1809dfe4-e841-4b22-9c5a-89babb88ecf9"
      },
      "source": [
        "name = input(\"Please write your name: \").title()\n",
        "\n",
        "if name == \"Joseph\":\n",
        "  print(\"Hello Joseph! The password is : W@12\")\n",
        "\n",
        "else:\n",
        "  print(\"Hello\", name,\"! See you later.\")\n"
      ],
      "execution_count": 3,
      "outputs": [
        {
          "output_type": "stream",
          "text": [
            "Please write your name: Busra\n",
            "Hello Busra ! See you later.\n"
          ],
          "name": "stdout"
        }
      ]
    },
    {
      "cell_type": "code",
      "metadata": {
        "colab": {
          "base_uri": "https://localhost:8080/"
        },
        "id": "QxahagMNXyUB",
        "outputId": "f66d69ee-c142-4832-a9a8-136ad958f134"
      },
      "source": [
        "name = input(\"Please write your name: \").title()\n",
        "\n",
        "if name == \"Joseph\":\n",
        "  print(\"Hello Joseph! The password is : W@12\")\n",
        "\n",
        "else:\n",
        "  print(\"Hello\", name,\"! See you later.\")\n"
      ],
      "execution_count": 4,
      "outputs": [
        {
          "output_type": "stream",
          "text": [
            "Please write your name: Joseph\n",
            "Hello Joseph! The password is : W@12\n"
          ],
          "name": "stdout"
        }
      ]
    }
  ]
}