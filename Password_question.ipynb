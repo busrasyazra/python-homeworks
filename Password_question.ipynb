{
  "nbformat": 4,
  "nbformat_minor": 0,
  "metadata": {
    "colab": {
      "name": "Password-question.ipynb",
      "provenance": [],
      "authorship_tag": "ABX9TyPTAq+rVxfXkpvz/LRcmPbV",
      "include_colab_link": true
    },
    "kernelspec": {
      "name": "python3",
      "display_name": "Python 3"
    },
    "language_info": {
      "name": "python"
    }
  },
  "cells": [
    {
      "cell_type": "markdown",
      "metadata": {
        "id": "view-in-github",
        "colab_type": "text"
      },
      "source": [
        "<a href=\"https://colab.research.google.com/github/busrasyazra/asyaworkshop/blob/main/Password_question.ipynb\" target=\"_parent\"><img src=\"https://colab.research.google.com/assets/colab-badge.svg\" alt=\"Open In Colab\"/></a>"
      ]
    },
    {
      "cell_type": "code",
      "metadata": {
        "colab": {
          "base_uri": "https://localhost:8080/"
        },
        "id": "Sa73GT7hV4QJ",
        "outputId": "488d1c00-7e15-4b36-c961-88b24344bb9c"
      },
      "source": [
        "name = input(\"Please write your name: \").title()\n",
        "\n",
        "if name == \"Joseph\":\n",
        "  print(\"Hello Joseph! The password is : W@12\")\n",
        "\n",
        "else:\n",
        "  print(\"Hello\", name,\"! See you later.\")\n"
      ],
      "execution_count": 2,
      "outputs": [
        {
          "output_type": "stream",
          "text": [
            "Please write your name: joseph\n",
            "Hello Joseph! The password is : W@12\n"
          ],
          "name": "stdout"
        }
      ]
    }
  ]
}