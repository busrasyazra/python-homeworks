{
  "nbformat": 4,
  "nbformat_minor": 0,
  "metadata": {
    "colab": {
      "name": "even_number.ipynb",
      "provenance": [],
      "authorship_tag": "ABX9TyP8s8LA+m38c6WVz7PTnR4V",
      "include_colab_link": true
    },
    "kernelspec": {
      "name": "python3",
      "display_name": "Python 3"
    },
    "language_info": {
      "name": "python"
    }
  },
  "cells": [
    {
      "cell_type": "markdown",
      "metadata": {
        "id": "view-in-github",
        "colab_type": "text"
      },
      "source": [
        "<a href=\"https://colab.research.google.com/github/busrasyazra/python-homeworks/blob/main/even_number.ipynb\" target=\"_parent\"><img src=\"https://colab.research.google.com/assets/colab-badge.svg\" alt=\"Open In Colab\"/></a>"
      ]
    },
    {
      "cell_type": "code",
      "metadata": {
        "colab": {
          "base_uri": "https://localhost:8080/"
        },
        "id": "PhBjI-38PS0-",
        "outputId": "b4278044-a74a-4e20-e4ef-227cb1a75c1e"
      },
      "source": [
        "n = int(input('Please enter a number: '))\n",
        "count = 0\n",
        "for i in range(1, n+1):\n",
        "    if n % i == 0:\n",
        "        count += 1\n",
        "    if count == 3:\n",
        "        break\n",
        "if (n == 0) or (n == 1) or (count == 3):\n",
        "    print(n, 'is not a prime number')\n",
        "else:\n",
        "    print(n, 'is a prime number')"
      ],
      "execution_count": 3,
      "outputs": [
        {
          "output_type": "stream",
          "text": [
            "Please enter a number: 23\n",
            "23 is a prime number\n"
          ],
          "name": "stdout"
        }
      ]
    }
  ]
}